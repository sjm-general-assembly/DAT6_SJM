{
 "metadata": {
  "name": "",
  "signature": "sha256:25e62c9a7d843fccd7738b9e42141530964b057139cf078c707fc2ddddadfa9d"
 },
 "nbformat": 3,
 "nbformat_minor": 0,
 "worksheets": [
  {
   "cells": [
    {
     "cell_type": "code",
     "collapsed": false,
     "input": [
      "import yaml\n"
     ],
     "language": "python",
     "metadata": {},
     "outputs": [],
     "prompt_number": 1
    },
    {
     "cell_type": "code",
     "collapsed": false,
     "input": [
      "credentials = yaml.load(open('/Users/smarsh/Dropbox/ga/keys/gh_cred.yml'))"
     ],
     "language": "python",
     "metadata": {},
     "outputs": [],
     "prompt_number": 3
    },
    {
     "cell_type": "code",
     "collapsed": false,
     "input": [
      "import requests\n",
      "r = requests.get('https://api.github.com/user',\n",
      "                 auth=(credentials['USER'], credentials['PASS']))"
     ],
     "language": "python",
     "metadata": {},
     "outputs": [],
     "prompt_number": 4
    },
    {
     "cell_type": "code",
     "collapsed": false,
     "input": [
      "r.content"
     ],
     "language": "python",
     "metadata": {},
     "outputs": [
      {
       "metadata": {},
       "output_type": "pyout",
       "prompt_number": 5,
       "text": [
        "'{\"login\":\"stevenjmarsh\",\"id\":6202447,\"avatar_url\":\"https://avatars.githubusercontent.com/u/6202447?\",\"gravatar_id\":\"168a15ecdfed5ce166e16e5a2cdfcbc7\",\"url\":\"https://api.github.com/users/stevenjmarsh\",\"html_url\":\"https://github.com/stevenjmarsh\",\"followers_url\":\"https://api.github.com/users/stevenjmarsh/followers\",\"following_url\":\"https://api.github.com/users/stevenjmarsh/following{/other_user}\",\"gists_url\":\"https://api.github.com/users/stevenjmarsh/gists{/gist_id}\",\"starred_url\":\"https://api.github.com/users/stevenjmarsh/starred{/owner}{/repo}\",\"subscriptions_url\":\"https://api.github.com/users/stevenjmarsh/subscriptions\",\"organizations_url\":\"https://api.github.com/users/stevenjmarsh/orgs\",\"repos_url\":\"https://api.github.com/users/stevenjmarsh/repos\",\"events_url\":\"https://api.github.com/users/stevenjmarsh/events{/privacy}\",\"received_events_url\":\"https://api.github.com/users/stevenjmarsh/received_events\",\"type\":\"User\",\"site_admin\":false,\"public_repos\":51,\"public_gists\":1,\"followers\":13,\"following\":0,\"created_at\":\"2013-12-17T03:23:04Z\",\"updated_at\":\"2014-04-23T22:29:43Z\",\"private_gists\":5,\"total_private_repos\":2,\"owned_private_repos\":2,\"disk_usage\":13989,\"collaborators\":1,\"plan\":{\"name\":\"micro\",\"space\":614400,\"collaborators\":0,\"private_repos\":5}}'"
       ]
      }
     ],
     "prompt_number": 5
    },
    {
     "cell_type": "code",
     "collapsed": false,
     "input": [
      "import json\n",
      "user = json.loads(r.content)\n",
      "user"
     ],
     "language": "python",
     "metadata": {},
     "outputs": [
      {
       "metadata": {},
       "output_type": "pyout",
       "prompt_number": 6,
       "text": [
        "{u'avatar_url': u'https://avatars.githubusercontent.com/u/6202447?',\n",
        " u'collaborators': 1,\n",
        " u'created_at': u'2013-12-17T03:23:04Z',\n",
        " u'disk_usage': 13989,\n",
        " u'events_url': u'https://api.github.com/users/stevenjmarsh/events{/privacy}',\n",
        " u'followers': 13,\n",
        " u'followers_url': u'https://api.github.com/users/stevenjmarsh/followers',\n",
        " u'following': 0,\n",
        " u'following_url': u'https://api.github.com/users/stevenjmarsh/following{/other_user}',\n",
        " u'gists_url': u'https://api.github.com/users/stevenjmarsh/gists{/gist_id}',\n",
        " u'gravatar_id': u'168a15ecdfed5ce166e16e5a2cdfcbc7',\n",
        " u'html_url': u'https://github.com/stevenjmarsh',\n",
        " u'id': 6202447,\n",
        " u'login': u'stevenjmarsh',\n",
        " u'organizations_url': u'https://api.github.com/users/stevenjmarsh/orgs',\n",
        " u'owned_private_repos': 2,\n",
        " u'plan': {u'collaborators': 0,\n",
        "  u'name': u'micro',\n",
        "  u'private_repos': 5,\n",
        "  u'space': 614400},\n",
        " u'private_gists': 5,\n",
        " u'public_gists': 1,\n",
        " u'public_repos': 51,\n",
        " u'received_events_url': u'https://api.github.com/users/stevenjmarsh/received_events',\n",
        " u'repos_url': u'https://api.github.com/users/stevenjmarsh/repos',\n",
        " u'site_admin': False,\n",
        " u'starred_url': u'https://api.github.com/users/stevenjmarsh/starred{/owner}{/repo}',\n",
        " u'subscriptions_url': u'https://api.github.com/users/stevenjmarsh/subscriptions',\n",
        " u'total_private_repos': 2,\n",
        " u'type': u'User',\n",
        " u'updated_at': u'2014-04-23T22:29:43Z',\n",
        " u'url': u'https://api.github.com/users/stevenjmarsh'}"
       ]
      }
     ],
     "prompt_number": 6
    },
    {
     "cell_type": "code",
     "collapsed": false,
     "input": [
      "print user.keys()"
     ],
     "language": "python",
     "metadata": {},
     "outputs": [
      {
       "output_type": "stream",
       "stream": "stdout",
       "text": [
        "[u'disk_usage', u'private_gists', u'site_admin', u'subscriptions_url', u'gravatar_id', u'id', u'followers_url', u'following_url', u'collaborators', u'total_private_repos', u'followers', u'type', u'public_repos', u'gists_url', u'owned_private_repos', u'events_url', u'html_url', u'updated_at', u'plan', u'received_events_url', u'starred_url', u'public_gists', u'organizations_url', u'url', u'created_at', u'avatar_url', u'repos_url', u'following', u'login']\n"
       ]
      }
     ],
     "prompt_number": 7
    },
    {
     "cell_type": "code",
     "collapsed": false,
     "input": [
      "from IPython.display import Image\n",
      "print \"Hireable: {}\".format(user.get('hireable'))\n",
      "Image(url=user.get('avatar_url'))"
     ],
     "language": "python",
     "metadata": {},
     "outputs": [
      {
       "output_type": "stream",
       "stream": "stdout",
       "text": [
        "Hireable: None\n"
       ]
      },
      {
       "html": [
        "<img src=\"https://avatars.githubusercontent.com/u/6202447?\"/>"
       ],
       "metadata": {},
       "output_type": "pyout",
       "prompt_number": 8,
       "text": [
        "<IPython.core.display.Image at 0x103859450>"
       ]
      }
     ],
     "prompt_number": 8
    },
    {
     "cell_type": "code",
     "collapsed": false,
     "input": [],
     "language": "python",
     "metadata": {},
     "outputs": []
    }
   ],
   "metadata": {}
  }
 ]
}