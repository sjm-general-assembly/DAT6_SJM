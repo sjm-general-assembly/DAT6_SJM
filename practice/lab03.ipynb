{
 "metadata": {
  "name": "",
  "signature": "sha256:72d79be7fba116655e3031a9434386e9e48229d75664cdba8009597adcb8ff42"
 },
 "nbformat": 3,
 "nbformat_minor": 0,
 "worksheets": [
  {
   "cells": [
    {
     "cell_type": "code",
     "collapsed": false,
     "input": [
      "%load_ext sql"
     ],
     "language": "python",
     "metadata": {},
     "outputs": [],
     "prompt_number": 1
    },
    {
     "cell_type": "code",
     "collapsed": false,
     "input": [
      "%%sqlite3 enron.db .tables"
     ],
     "language": "python",
     "metadata": {},
     "outputs": [
      {
       "output_type": "stream",
       "stream": "stderr",
       "text": [
        "ERROR: Cell magic `%%sqlite3` not found.\n"
       ]
      }
     ],
     "prompt_number": 2
    },
    {
     "cell_type": "code",
     "collapsed": false,
     "input": [
      "%%bash\n",
      "sqlite3 enron.db .tables"
     ],
     "language": "python",
     "metadata": {},
     "outputs": [
      {
       "output_type": "stream",
       "stream": "stdout",
       "text": [
        "Employee          EmployeeWithVars  MessageBase       RecipientBase   \n",
        "EmployeeBase      Message           Recipient       \n"
       ]
      }
     ],
     "prompt_number": 3
    },
    {
     "cell_type": "code",
     "collapsed": false,
     "input": [
      "%%sql sqlite:///enron.db\n",
      "    select * from EmployeeBase limit 5"
     ],
     "language": "python",
     "metadata": {},
     "outputs": [
      {
       "output_type": "stream",
       "stream": "stdout",
       "text": [
        "Done.\n"
       ]
      },
      {
       "html": [
        "<table>\n",
        "    <tr>\n",
        "        <th>eid</th>\n",
        "        <th>name</th>\n",
        "        <th>department</th>\n",
        "        <th>longdepartment</th>\n",
        "        <th>title</th>\n",
        "        <th>gender</th>\n",
        "        <th>seniority</th>\n",
        "    </tr>\n",
        "    <tr>\n",
        "        <td>1</td>\n",
        "        <td>John Arnold</td>\n",
        "        <td>Trading</td>\n",
        "        <td>ENA Gas Financial</td>\n",
        "        <td>VP Trading</td>\n",
        "        <td>Male</td>\n",
        "        <td>Senior</td>\n",
        "    </tr>\n",
        "    <tr>\n",
        "        <td>2</td>\n",
        "        <td>Harry Arora</td>\n",
        "        <td>Trading</td>\n",
        "        <td>ENA East Power</td>\n",
        "        <td>VP Trading</td>\n",
        "        <td>Male</td>\n",
        "        <td>Senior</td>\n",
        "    </tr>\n",
        "    <tr>\n",
        "        <td>3</td>\n",
        "        <td>Robert Badeer</td>\n",
        "        <td>Trading</td>\n",
        "        <td>ENA West Power</td>\n",
        "        <td>Mgr Trading</td>\n",
        "        <td>Male</td>\n",
        "        <td>Junior</td>\n",
        "    </tr>\n",
        "    <tr>\n",
        "        <td>4</td>\n",
        "        <td>Susan Bailey</td>\n",
        "        <td>Legal</td>\n",
        "        <td>ENA Legal</td>\n",
        "        <td>Specialist Legal</td>\n",
        "        <td>Female</td>\n",
        "        <td>Junior</td>\n",
        "    </tr>\n",
        "    <tr>\n",
        "        <td>5</td>\n",
        "        <td>Eric Bass</td>\n",
        "        <td>Trading</td>\n",
        "        <td>ENA Gas Texas</td>\n",
        "        <td>Trader</td>\n",
        "        <td>Male</td>\n",
        "        <td>Junior</td>\n",
        "    </tr>\n",
        "</table>"
       ],
       "metadata": {},
       "output_type": "pyout",
       "prompt_number": 4,
       "text": [
        "[(1, u'John Arnold', u'Trading', u'ENA Gas Financial', u'VP Trading', u'Male', u'Senior'),\n",
        " (2, u'Harry Arora', u'Trading', u'ENA East Power', u'VP Trading', u'Male', u'Senior'),\n",
        " (3, u'Robert Badeer', u'Trading', u'ENA West Power', u'Mgr Trading', u'Male', u'Junior'),\n",
        " (4, u'Susan Bailey', u'Legal', u'ENA Legal', u'Specialist Legal', u'Female', u'Junior'),\n",
        " (5, u'Eric Bass', u'Trading', u'ENA Gas Texas', u'Trader', u'Male', u'Junior')]"
       ]
      }
     ],
     "prompt_number": 4
    },
    {
     "cell_type": "code",
     "collapsed": false,
     "input": [
      "%%sql sqlite:///enron.db\n",
      "    select * from MessageBase limit 5"
     ],
     "language": "python",
     "metadata": {},
     "outputs": [
      {
       "output_type": "stream",
       "stream": "stdout",
       "text": [
        "Done.\n"
       ]
      },
      {
       "html": [
        "<table>\n",
        "    <tr>\n",
        "        <th>mid</th>\n",
        "        <th>filename</th>\n",
        "        <th>unix_time</th>\n",
        "        <th>subject</th>\n",
        "        <th>from_eid</th>\n",
        "    </tr>\n",
        "    <tr>\n",
        "        <td>1</td>\n",
        "        <td>taylor-m/sent/11</td>\n",
        "        <td>910930020</td>\n",
        "        <td>Cd$ CME letter</td>\n",
        "        <td>138</td>\n",
        "    </tr>\n",
        "    <tr>\n",
        "        <td>2</td>\n",
        "        <td>taylor-m/sent/17</td>\n",
        "        <td>911459940</td>\n",
        "        <td>Indemnification</td>\n",
        "        <td>138</td>\n",
        "    </tr>\n",
        "    <tr>\n",
        "        <td>3</td>\n",
        "        <td>taylor-m/sent/18</td>\n",
        "        <td>911463840</td>\n",
        "        <td>Re: Indemnification</td>\n",
        "        <td>138</td>\n",
        "    </tr>\n",
        "    <tr>\n",
        "        <td>4</td>\n",
        "        <td>taylor-m/sent/23</td>\n",
        "        <td>911874180</td>\n",
        "        <td>Re: Coral Energy, L.P.</td>\n",
        "        <td>138</td>\n",
        "    </tr>\n",
        "    <tr>\n",
        "        <td>5</td>\n",
        "        <td>taylor-m/sent/27</td>\n",
        "        <td>912396120</td>\n",
        "        <td>Bankruptcy Code revisions</td>\n",
        "        <td>138</td>\n",
        "    </tr>\n",
        "</table>"
       ],
       "metadata": {},
       "output_type": "pyout",
       "prompt_number": 5,
       "text": [
        "[(1, u'taylor-m/sent/11', 910930020, u'Cd$ CME letter', 138),\n",
        " (2, u'taylor-m/sent/17', 911459940, u'Indemnification', 138),\n",
        " (3, u'taylor-m/sent/18', 911463840, u'Re: Indemnification', 138),\n",
        " (4, u'taylor-m/sent/23', 911874180, u'Re: Coral Energy, L.P.', 138),\n",
        " (5, u'taylor-m/sent/27', 912396120, u'Bankruptcy Code revisions', 138)]"
       ]
      }
     ],
     "prompt_number": 5
    },
    {
     "cell_type": "raw",
     "metadata": {},
     "source": [
      "from class: from_eid looks like a foreign key\n"
     ]
    },
    {
     "cell_type": "code",
     "collapsed": false,
     "input": [
      "%%sql sqlite:///enron.db\n",
      "    select unix_time, name, department, title, gender, seniority, subject, filename\n",
      "    from EmployeeBase join MessageBase on eid = from_eid limit 5\n",
      "    "
     ],
     "language": "python",
     "metadata": {},
     "outputs": [
      {
       "output_type": "stream",
       "stream": "stdout",
       "text": [
        "Done.\n"
       ]
      },
      {
       "html": [
        "<table>\n",
        "    <tr>\n",
        "        <th>unix_time</th>\n",
        "        <th>name</th>\n",
        "        <th>department</th>\n",
        "        <th>title</th>\n",
        "        <th>gender</th>\n",
        "        <th>seniority</th>\n",
        "        <th>subject</th>\n",
        "        <th>filename</th>\n",
        "    </tr>\n",
        "    <tr>\n",
        "        <td>910930020</td>\n",
        "        <td>Mark E. Taylor</td>\n",
        "        <td>Legal</td>\n",
        "        <td>VP &amp; Gen Cnsl</td>\n",
        "        <td>Male</td>\n",
        "        <td>Senior</td>\n",
        "        <td>Cd$ CME letter</td>\n",
        "        <td>taylor-m/sent/11</td>\n",
        "    </tr>\n",
        "    <tr>\n",
        "        <td>911459940</td>\n",
        "        <td>Mark E. Taylor</td>\n",
        "        <td>Legal</td>\n",
        "        <td>VP &amp; Gen Cnsl</td>\n",
        "        <td>Male</td>\n",
        "        <td>Senior</td>\n",
        "        <td>Indemnification</td>\n",
        "        <td>taylor-m/sent/17</td>\n",
        "    </tr>\n",
        "    <tr>\n",
        "        <td>911463840</td>\n",
        "        <td>Mark E. Taylor</td>\n",
        "        <td>Legal</td>\n",
        "        <td>VP &amp; Gen Cnsl</td>\n",
        "        <td>Male</td>\n",
        "        <td>Senior</td>\n",
        "        <td>Re: Indemnification</td>\n",
        "        <td>taylor-m/sent/18</td>\n",
        "    </tr>\n",
        "    <tr>\n",
        "        <td>911874180</td>\n",
        "        <td>Mark E. Taylor</td>\n",
        "        <td>Legal</td>\n",
        "        <td>VP &amp; Gen Cnsl</td>\n",
        "        <td>Male</td>\n",
        "        <td>Senior</td>\n",
        "        <td>Re: Coral Energy, L.P.</td>\n",
        "        <td>taylor-m/sent/23</td>\n",
        "    </tr>\n",
        "    <tr>\n",
        "        <td>912396120</td>\n",
        "        <td>Mark E. Taylor</td>\n",
        "        <td>Legal</td>\n",
        "        <td>VP &amp; Gen Cnsl</td>\n",
        "        <td>Male</td>\n",
        "        <td>Senior</td>\n",
        "        <td>Bankruptcy Code revisions</td>\n",
        "        <td>taylor-m/sent/27</td>\n",
        "    </tr>\n",
        "</table>"
       ],
       "metadata": {},
       "output_type": "pyout",
       "prompt_number": 6,
       "text": [
        "[(910930020, u'Mark E. Taylor', u'Legal', u'VP & Gen Cnsl', u'Male', u'Senior', u'Cd$ CME letter', u'taylor-m/sent/11'),\n",
        " (911459940, u'Mark E. Taylor', u'Legal', u'VP & Gen Cnsl', u'Male', u'Senior', u'Indemnification', u'taylor-m/sent/17'),\n",
        " (911463840, u'Mark E. Taylor', u'Legal', u'VP & Gen Cnsl', u'Male', u'Senior', u'Re: Indemnification', u'taylor-m/sent/18'),\n",
        " (911874180, u'Mark E. Taylor', u'Legal', u'VP & Gen Cnsl', u'Male', u'Senior', u'Re: Coral Energy, L.P.', u'taylor-m/sent/23'),\n",
        " (912396120, u'Mark E. Taylor', u'Legal', u'VP & Gen Cnsl', u'Male', u'Senior', u'Bankruptcy Code revisions', u'taylor-m/sent/27')]"
       ]
      }
     ],
     "prompt_number": 6
    },
    {
     "cell_type": "markdown",
     "metadata": {},
     "source": [
      "check out RecipientBase..."
     ]
    },
    {
     "cell_type": "code",
     "collapsed": false,
     "input": [
      "%%sql sqlite:///enron.db\n",
      "    select * from RecipientBase limit 9\n",
      "    "
     ],
     "language": "python",
     "metadata": {},
     "outputs": [
      {
       "output_type": "stream",
       "stream": "stdout",
       "text": [
        "Done.\n"
       ]
      },
      {
       "html": [
        "<table>\n",
        "    <tr>\n",
        "        <th>mid</th>\n",
        "        <th>rno</th>\n",
        "        <th>to_eid</th>\n",
        "    </tr>\n",
        "    <tr>\n",
        "        <td>1</td>\n",
        "        <td>1</td>\n",
        "        <td>59</td>\n",
        "    </tr>\n",
        "    <tr>\n",
        "        <td>2</td>\n",
        "        <td>1</td>\n",
        "        <td>15</td>\n",
        "    </tr>\n",
        "    <tr>\n",
        "        <td>3</td>\n",
        "        <td>1</td>\n",
        "        <td>15</td>\n",
        "    </tr>\n",
        "    <tr>\n",
        "        <td>4</td>\n",
        "        <td>1</td>\n",
        "        <td>109</td>\n",
        "    </tr>\n",
        "    <tr>\n",
        "        <td>4</td>\n",
        "        <td>2</td>\n",
        "        <td>49</td>\n",
        "    </tr>\n",
        "    <tr>\n",
        "        <td>4</td>\n",
        "        <td>3</td>\n",
        "        <td>120</td>\n",
        "    </tr>\n",
        "    <tr>\n",
        "        <td>4</td>\n",
        "        <td>4</td>\n",
        "        <td>59</td>\n",
        "    </tr>\n",
        "    <tr>\n",
        "        <td>5</td>\n",
        "        <td>1</td>\n",
        "        <td>45</td>\n",
        "    </tr>\n",
        "    <tr>\n",
        "        <td>5</td>\n",
        "        <td>2</td>\n",
        "        <td>53</td>\n",
        "    </tr>\n",
        "</table>"
       ],
       "metadata": {},
       "output_type": "pyout",
       "prompt_number": 7,
       "text": [
        "[(1, 1, 59),\n",
        " (2, 1, 15),\n",
        " (3, 1, 15),\n",
        " (4, 1, 109),\n",
        " (4, 2, 49),\n",
        " (4, 3, 120),\n",
        " (4, 4, 59),\n",
        " (5, 1, 45),\n",
        " (5, 2, 53)]"
       ]
      }
     ],
     "prompt_number": 7
    },
    {
     "cell_type": "code",
     "collapsed": false,
     "input": [
      "%%sql sqlite:///enron.db\n",
      "    select * from RecipientBase where rno = 57\n",
      "    "
     ],
     "language": "python",
     "metadata": {},
     "outputs": [
      {
       "output_type": "stream",
       "stream": "stdout",
       "text": [
        "Done.\n"
       ]
      },
      {
       "html": [
        "<table>\n",
        "    <tr>\n",
        "        <th>mid</th>\n",
        "        <th>rno</th>\n",
        "        <th>to_eid</th>\n",
        "    </tr>\n",
        "    <tr>\n",
        "        <td>12116</td>\n",
        "        <td>57</td>\n",
        "        <td>51</td>\n",
        "    </tr>\n",
        "    <tr>\n",
        "        <td>12151</td>\n",
        "        <td>57</td>\n",
        "        <td>51</td>\n",
        "    </tr>\n",
        "</table>"
       ],
       "metadata": {},
       "output_type": "pyout",
       "prompt_number": 8,
       "text": [
        "[(12116, 57, 51), (12151, 57, 51)]"
       ]
      }
     ],
     "prompt_number": 8
    },
    {
     "cell_type": "code",
     "collapsed": false,
     "input": [
      "%%sql sqlite:///enron.db\n",
      "    select * from MessageBase where mid in (12116, 12151)"
     ],
     "language": "python",
     "metadata": {},
     "outputs": [
      {
       "output_type": "stream",
       "stream": "stdout",
       "text": [
        "Done.\n"
       ]
      },
      {
       "html": [
        "<table>\n",
        "    <tr>\n",
        "        <th>mid</th>\n",
        "        <th>filename</th>\n",
        "        <th>unix_time</th>\n",
        "        <th>subject</th>\n",
        "        <th>from_eid</th>\n",
        "    </tr>\n",
        "    <tr>\n",
        "        <td>12116</td>\n",
        "        <td>baughman-d/all_documents/398</td>\n",
        "        <td>990510780</td>\n",
        "        <td></td>\n",
        "        <td>67</td>\n",
        "    </tr>\n",
        "    <tr>\n",
        "        <td>12151</td>\n",
        "        <td>baughman-d/ect_admin/22</td>\n",
        "        <td>990546780</td>\n",
        "        <td></td>\n",
        "        <td>67</td>\n",
        "    </tr>\n",
        "</table>"
       ],
       "metadata": {},
       "output_type": "pyout",
       "prompt_number": 9,
       "text": [
        "[(12116, u'baughman-d/all_documents/398', 990510780, u'', 67),\n",
        " (12151, u'baughman-d/ect_admin/22', 990546780, u'', 67)]"
       ]
      }
     ],
     "prompt_number": 9
    },
    {
     "cell_type": "markdown",
     "metadata": {},
     "source": [
      "determine who sent email to most recipients...\n"
     ]
    },
    {
     "cell_type": "code",
     "collapsed": false,
     "input": [
      "%%sql sqlite:///enron.db\n",
      "    select name, title, max(rno)\n",
      "    from EmployeeBase\n",
      "    join MessageBase on eid = from_eid\n",
      "    join RecipientBase using(mid)\n",
      "    "
     ],
     "language": "python",
     "metadata": {},
     "outputs": [
      {
       "output_type": "stream",
       "stream": "stdout",
       "text": [
        "Done.\n"
       ]
      },
      {
       "html": [
        "<table>\n",
        "    <tr>\n",
        "        <th>name</th>\n",
        "        <th>title</th>\n",
        "        <th>max(rno)</th>\n",
        "    </tr>\n",
        "    <tr>\n",
        "        <td>John J. Lavorato</td>\n",
        "        <td>ENA President &amp; CEO</td>\n",
        "        <td>57</td>\n",
        "    </tr>\n",
        "</table>"
       ],
       "metadata": {},
       "output_type": "pyout",
       "prompt_number": 10,
       "text": [
        "[(u'John J. Lavorato', u'ENA President & CEO', 57)]"
       ]
      }
     ],
     "prompt_number": 10
    },
    {
     "cell_type": "markdown",
     "metadata": {},
     "source": [
      "find top five senders of mass emails..."
     ]
    },
    {
     "cell_type": "code",
     "collapsed": false,
     "input": [
      "%%sql sqlite:///enron.db\n",
      "    select name, title, max(rno) as recipient_count\n",
      "    from EmployeeBase\n",
      "    join MessageBase on eid = from_eid\n",
      "    join RecipientBase using(mid)\n",
      "    group by name, title\n",
      "    order by recipient_count desc limit 5"
     ],
     "language": "python",
     "metadata": {},
     "outputs": [
      {
       "output_type": "stream",
       "stream": "stdout",
       "text": [
        "Done.\n"
       ]
      },
      {
       "html": [
        "<table>\n",
        "    <tr>\n",
        "        <th>name</th>\n",
        "        <th>title</th>\n",
        "        <th>recipient_count</th>\n",
        "    </tr>\n",
        "    <tr>\n",
        "        <td>John J. Lavorato</td>\n",
        "        <td>ENA President &amp; CEO</td>\n",
        "        <td>57</td>\n",
        "    </tr>\n",
        "    <tr>\n",
        "        <td>Kenneth Lay</td>\n",
        "        <td>President &amp; CEO</td>\n",
        "        <td>52</td>\n",
        "    </tr>\n",
        "    <tr>\n",
        "        <td>Sally Beck</td>\n",
        "        <td>VP</td>\n",
        "        <td>49</td>\n",
        "    </tr>\n",
        "    <tr>\n",
        "        <td>Monique Sanchez </td>\n",
        "        <td>Associate</td>\n",
        "        <td>24</td>\n",
        "    </tr>\n",
        "    <tr>\n",
        "        <td>Louise Kitchen</td>\n",
        "        <td>COO</td>\n",
        "        <td>21</td>\n",
        "    </tr>\n",
        "</table>"
       ],
       "metadata": {},
       "output_type": "pyout",
       "prompt_number": 11,
       "text": [
        "[(u'John J. Lavorato', u'ENA President & CEO', 57),\n",
        " (u'Kenneth Lay', u'President & CEO', 52),\n",
        " (u'Sally Beck', u'VP', 49),\n",
        " (u'Monique Sanchez ', u'Associate', 24),\n",
        " (u'Louise Kitchen', u'COO', 21)]"
       ]
      }
     ],
     "prompt_number": 11
    },
    {
     "cell_type": "markdown",
     "metadata": {},
     "source": [
      "now some examples using Pandas..."
     ]
    },
    {
     "cell_type": "heading",
     "level": 1,
     "metadata": {},
     "source": [
      "Pandas Data Frames"
     ]
    },
    {
     "cell_type": "code",
     "collapsed": false,
     "input": [
      "import pandas as pd\n",
      "import sqlite3\n",
      "from pandas.io import sql\n",
      "conn = sqlite3.connect('enron.db')\n"
     ],
     "language": "python",
     "metadata": {},
     "outputs": [],
     "prompt_number": 12
    },
    {
     "cell_type": "code",
     "collapsed": false,
     "input": [
      "sql.frame_query(\"\"\"select mid, unix_time, subject, from_eid\n",
      "                from MessageBase limit 5\"\"\", conn, \"mid\")"
     ],
     "language": "python",
     "metadata": {},
     "outputs": [
      {
       "html": [
        "<div style=\"max-height:1000px;max-width:1500px;overflow:auto;\">\n",
        "<table border=\"1\" class=\"dataframe\">\n",
        "  <thead>\n",
        "    <tr style=\"text-align: right;\">\n",
        "      <th></th>\n",
        "      <th>unix_time</th>\n",
        "      <th>subject</th>\n",
        "      <th>from_eid</th>\n",
        "    </tr>\n",
        "    <tr>\n",
        "      <th>mid</th>\n",
        "      <th></th>\n",
        "      <th></th>\n",
        "      <th></th>\n",
        "    </tr>\n",
        "  </thead>\n",
        "  <tbody>\n",
        "    <tr>\n",
        "      <th>1</th>\n",
        "      <td> 910930020</td>\n",
        "      <td>            Cd$ CME letter</td>\n",
        "      <td> 138</td>\n",
        "    </tr>\n",
        "    <tr>\n",
        "      <th>2</th>\n",
        "      <td> 911459940</td>\n",
        "      <td>           Indemnification</td>\n",
        "      <td> 138</td>\n",
        "    </tr>\n",
        "    <tr>\n",
        "      <th>3</th>\n",
        "      <td> 911463840</td>\n",
        "      <td>       Re: Indemnification</td>\n",
        "      <td> 138</td>\n",
        "    </tr>\n",
        "    <tr>\n",
        "      <th>4</th>\n",
        "      <td> 911874180</td>\n",
        "      <td>    Re: Coral Energy, L.P.</td>\n",
        "      <td> 138</td>\n",
        "    </tr>\n",
        "    <tr>\n",
        "      <th>5</th>\n",
        "      <td> 912396120</td>\n",
        "      <td> Bankruptcy Code revisions</td>\n",
        "      <td> 138</td>\n",
        "    </tr>\n",
        "  </tbody>\n",
        "</table>\n",
        "<p>5 rows \u00d7 3 columns</p>\n",
        "</div>"
       ],
       "metadata": {},
       "output_type": "pyout",
       "prompt_number": 13,
       "text": [
        "     unix_time                    subject  from_eid\n",
        "mid                                                \n",
        "1    910930020             Cd$ CME letter       138\n",
        "2    911459940            Indemnification       138\n",
        "3    911463840        Re: Indemnification       138\n",
        "4    911874180     Re: Coral Energy, L.P.       138\n",
        "5    912396120  Bankruptcy Code revisions       138\n",
        "\n",
        "[5 rows x 3 columns]"
       ]
      }
     ],
     "prompt_number": 13
    },
    {
     "cell_type": "code",
     "collapsed": false,
     "input": [
      "conn = sqlite3.connect('enron.db')"
     ],
     "language": "python",
     "metadata": {},
     "outputs": [],
     "prompt_number": 14
    },
    {
     "cell_type": "code",
     "collapsed": false,
     "input": [
      "sql.frame_query(\"\"\"select mid, unix_time, subject, from_eid\n",
      "                from MessageBase limit 5\"\"\", conn, \"mid\")"
     ],
     "language": "python",
     "metadata": {},
     "outputs": [
      {
       "html": [
        "<div style=\"max-height:1000px;max-width:1500px;overflow:auto;\">\n",
        "<table border=\"1\" class=\"dataframe\">\n",
        "  <thead>\n",
        "    <tr style=\"text-align: right;\">\n",
        "      <th></th>\n",
        "      <th>unix_time</th>\n",
        "      <th>subject</th>\n",
        "      <th>from_eid</th>\n",
        "    </tr>\n",
        "    <tr>\n",
        "      <th>mid</th>\n",
        "      <th></th>\n",
        "      <th></th>\n",
        "      <th></th>\n",
        "    </tr>\n",
        "  </thead>\n",
        "  <tbody>\n",
        "    <tr>\n",
        "      <th>1</th>\n",
        "      <td> 910930020</td>\n",
        "      <td>            Cd$ CME letter</td>\n",
        "      <td> 138</td>\n",
        "    </tr>\n",
        "    <tr>\n",
        "      <th>2</th>\n",
        "      <td> 911459940</td>\n",
        "      <td>           Indemnification</td>\n",
        "      <td> 138</td>\n",
        "    </tr>\n",
        "    <tr>\n",
        "      <th>3</th>\n",
        "      <td> 911463840</td>\n",
        "      <td>       Re: Indemnification</td>\n",
        "      <td> 138</td>\n",
        "    </tr>\n",
        "    <tr>\n",
        "      <th>4</th>\n",
        "      <td> 911874180</td>\n",
        "      <td>    Re: Coral Energy, L.P.</td>\n",
        "      <td> 138</td>\n",
        "    </tr>\n",
        "    <tr>\n",
        "      <th>5</th>\n",
        "      <td> 912396120</td>\n",
        "      <td> Bankruptcy Code revisions</td>\n",
        "      <td> 138</td>\n",
        "    </tr>\n",
        "  </tbody>\n",
        "</table>\n",
        "<p>5 rows \u00d7 3 columns</p>\n",
        "</div>"
       ],
       "metadata": {},
       "output_type": "pyout",
       "prompt_number": 15,
       "text": [
        "     unix_time                    subject  from_eid\n",
        "mid                                                \n",
        "1    910930020             Cd$ CME letter       138\n",
        "2    911459940            Indemnification       138\n",
        "3    911463840        Re: Indemnification       138\n",
        "4    911874180     Re: Coral Energy, L.P.       138\n",
        "5    912396120  Bankruptcy Code revisions       138\n",
        "\n",
        "[5 rows x 3 columns]"
       ]
      }
     ],
     "prompt_number": 15
    },
    {
     "cell_type": "code",
     "collapsed": false,
     "input": [
      "MessageBase = sql.frame_query(\"\"\"select mid, unix_time, subject, from_eid\n",
      "                from MessageBase\"\"\", conn, \"mid\")\n",
      "MessageBase.head()"
     ],
     "language": "python",
     "metadata": {},
     "outputs": [
      {
       "html": [
        "<div style=\"max-height:1000px;max-width:1500px;overflow:auto;\">\n",
        "<table border=\"1\" class=\"dataframe\">\n",
        "  <thead>\n",
        "    <tr style=\"text-align: right;\">\n",
        "      <th></th>\n",
        "      <th>unix_time</th>\n",
        "      <th>subject</th>\n",
        "      <th>from_eid</th>\n",
        "    </tr>\n",
        "    <tr>\n",
        "      <th>mid</th>\n",
        "      <th></th>\n",
        "      <th></th>\n",
        "      <th></th>\n",
        "    </tr>\n",
        "  </thead>\n",
        "  <tbody>\n",
        "    <tr>\n",
        "      <th>1</th>\n",
        "      <td> 910930020</td>\n",
        "      <td>            Cd$ CME letter</td>\n",
        "      <td> 138</td>\n",
        "    </tr>\n",
        "    <tr>\n",
        "      <th>2</th>\n",
        "      <td> 911459940</td>\n",
        "      <td>           Indemnification</td>\n",
        "      <td> 138</td>\n",
        "    </tr>\n",
        "    <tr>\n",
        "      <th>3</th>\n",
        "      <td> 911463840</td>\n",
        "      <td>       Re: Indemnification</td>\n",
        "      <td> 138</td>\n",
        "    </tr>\n",
        "    <tr>\n",
        "      <th>4</th>\n",
        "      <td> 911874180</td>\n",
        "      <td>    Re: Coral Energy, L.P.</td>\n",
        "      <td> 138</td>\n",
        "    </tr>\n",
        "    <tr>\n",
        "      <th>5</th>\n",
        "      <td> 912396120</td>\n",
        "      <td> Bankruptcy Code revisions</td>\n",
        "      <td> 138</td>\n",
        "    </tr>\n",
        "  </tbody>\n",
        "</table>\n",
        "<p>5 rows \u00d7 3 columns</p>\n",
        "</div>"
       ],
       "metadata": {},
       "output_type": "pyout",
       "prompt_number": 16,
       "text": [
        "     unix_time                    subject  from_eid\n",
        "mid                                                \n",
        "1    910930020             Cd$ CME letter       138\n",
        "2    911459940            Indemnification       138\n",
        "3    911463840        Re: Indemnification       138\n",
        "4    911874180     Re: Coral Energy, L.P.       138\n",
        "5    912396120  Bankruptcy Code revisions       138\n",
        "\n",
        "[5 rows x 3 columns]"
       ]
      }
     ],
     "prompt_number": 16
    },
    {
     "cell_type": "markdown",
     "metadata": {},
     "source": [
      "try a sql join with 'using'..."
     ]
    },
    {
     "cell_type": "code",
     "collapsed": false,
     "input": [
      "sql.frame_query(\"\"\"select mid, unix_time, subject, from_eid, rno, to_eid\n",
      "    from MessageBase join RecipientBase using(mid) limit 5\"\"\", conn, \"mid\")"
     ],
     "language": "python",
     "metadata": {},
     "outputs": [
      {
       "html": [
        "<div style=\"max-height:1000px;max-width:1500px;overflow:auto;\">\n",
        "<table border=\"1\" class=\"dataframe\">\n",
        "  <thead>\n",
        "    <tr style=\"text-align: right;\">\n",
        "      <th></th>\n",
        "      <th>unix_time</th>\n",
        "      <th>subject</th>\n",
        "      <th>from_eid</th>\n",
        "      <th>rno</th>\n",
        "      <th>to_eid</th>\n",
        "    </tr>\n",
        "    <tr>\n",
        "      <th>mid</th>\n",
        "      <th></th>\n",
        "      <th></th>\n",
        "      <th></th>\n",
        "      <th></th>\n",
        "      <th></th>\n",
        "    </tr>\n",
        "  </thead>\n",
        "  <tbody>\n",
        "    <tr>\n",
        "      <th>1</th>\n",
        "      <td> 910930020</td>\n",
        "      <td>         Cd$ CME letter</td>\n",
        "      <td> 138</td>\n",
        "      <td> 1</td>\n",
        "      <td>  59</td>\n",
        "    </tr>\n",
        "    <tr>\n",
        "      <th>2</th>\n",
        "      <td> 911459940</td>\n",
        "      <td>        Indemnification</td>\n",
        "      <td> 138</td>\n",
        "      <td> 1</td>\n",
        "      <td>  15</td>\n",
        "    </tr>\n",
        "    <tr>\n",
        "      <th>3</th>\n",
        "      <td> 911463840</td>\n",
        "      <td>    Re: Indemnification</td>\n",
        "      <td> 138</td>\n",
        "      <td> 1</td>\n",
        "      <td>  15</td>\n",
        "    </tr>\n",
        "    <tr>\n",
        "      <th>4</th>\n",
        "      <td> 911874180</td>\n",
        "      <td> Re: Coral Energy, L.P.</td>\n",
        "      <td> 138</td>\n",
        "      <td> 1</td>\n",
        "      <td> 109</td>\n",
        "    </tr>\n",
        "    <tr>\n",
        "      <th>4</th>\n",
        "      <td> 911874180</td>\n",
        "      <td> Re: Coral Energy, L.P.</td>\n",
        "      <td> 138</td>\n",
        "      <td> 2</td>\n",
        "      <td>  49</td>\n",
        "    </tr>\n",
        "  </tbody>\n",
        "</table>\n",
        "<p>5 rows \u00d7 5 columns</p>\n",
        "</div>"
       ],
       "metadata": {},
       "output_type": "pyout",
       "prompt_number": 17,
       "text": [
        "     unix_time                 subject  from_eid  rno  to_eid\n",
        "mid                                                          \n",
        "1    910930020          Cd$ CME letter       138    1      59\n",
        "2    911459940         Indemnification       138    1      15\n",
        "3    911463840     Re: Indemnification       138    1      15\n",
        "4    911874180  Re: Coral Energy, L.P.       138    1     109\n",
        "4    911874180  Re: Coral Energy, L.P.       138    2      49\n",
        "\n",
        "[5 rows x 5 columns]"
       ]
      }
     ],
     "prompt_number": 17
    },
    {
     "cell_type": "markdown",
     "metadata": {},
     "source": [
      "try a join using pandas..."
     ]
    },
    {
     "cell_type": "code",
     "collapsed": false,
     "input": [
      "RecipientBase = sql.frame_query(\"select * from Recipient\", conn, \"mid\")\n",
      "MessageBase.join(RecipientBase).head()"
     ],
     "language": "python",
     "metadata": {},
     "outputs": [
      {
       "html": [
        "<div style=\"max-height:1000px;max-width:1500px;overflow:auto;\">\n",
        "<table border=\"1\" class=\"dataframe\">\n",
        "  <thead>\n",
        "    <tr style=\"text-align: right;\">\n",
        "      <th></th>\n",
        "      <th>unix_time</th>\n",
        "      <th>subject</th>\n",
        "      <th>from_eid</th>\n",
        "      <th>rno</th>\n",
        "      <th>to_eid</th>\n",
        "    </tr>\n",
        "    <tr>\n",
        "      <th>mid</th>\n",
        "      <th></th>\n",
        "      <th></th>\n",
        "      <th></th>\n",
        "      <th></th>\n",
        "      <th></th>\n",
        "    </tr>\n",
        "  </thead>\n",
        "  <tbody>\n",
        "    <tr>\n",
        "      <th>1</th>\n",
        "      <td> 910930020</td>\n",
        "      <td>         Cd$ CME letter</td>\n",
        "      <td> 138</td>\n",
        "      <td> 1</td>\n",
        "      <td>  59</td>\n",
        "    </tr>\n",
        "    <tr>\n",
        "      <th>2</th>\n",
        "      <td> 911459940</td>\n",
        "      <td>        Indemnification</td>\n",
        "      <td> 138</td>\n",
        "      <td> 1</td>\n",
        "      <td>  15</td>\n",
        "    </tr>\n",
        "    <tr>\n",
        "      <th>3</th>\n",
        "      <td> 911463840</td>\n",
        "      <td>    Re: Indemnification</td>\n",
        "      <td> 138</td>\n",
        "      <td> 1</td>\n",
        "      <td>  15</td>\n",
        "    </tr>\n",
        "    <tr>\n",
        "      <th>4</th>\n",
        "      <td> 911874180</td>\n",
        "      <td> Re: Coral Energy, L.P.</td>\n",
        "      <td> 138</td>\n",
        "      <td> 1</td>\n",
        "      <td> 109</td>\n",
        "    </tr>\n",
        "    <tr>\n",
        "      <th>4</th>\n",
        "      <td> 911874180</td>\n",
        "      <td> Re: Coral Energy, L.P.</td>\n",
        "      <td> 138</td>\n",
        "      <td> 2</td>\n",
        "      <td>  49</td>\n",
        "    </tr>\n",
        "  </tbody>\n",
        "</table>\n",
        "<p>5 rows \u00d7 5 columns</p>\n",
        "</div>"
       ],
       "metadata": {},
       "output_type": "pyout",
       "prompt_number": 18,
       "text": [
        "     unix_time                 subject  from_eid  rno  to_eid\n",
        "mid                                                          \n",
        "1    910930020          Cd$ CME letter       138    1      59\n",
        "2    911459940         Indemnification       138    1      15\n",
        "3    911463840     Re: Indemnification       138    1      15\n",
        "4    911874180  Re: Coral Energy, L.P.       138    1     109\n",
        "4    911874180  Re: Coral Energy, L.P.       138    2      49\n",
        "\n",
        "[5 rows x 5 columns]"
       ]
      }
     ],
     "prompt_number": 18
    },
    {
     "cell_type": "markdown",
     "metadata": {},
     "source": [
      "wow. interesting. didn't need to specify join on fields...  (likely used common column)"
     ]
    },
    {
     "cell_type": "code",
     "collapsed": false,
     "input": [
      "sql.frame_query(\"\"\"select mid, name, title, seniority, unix_time\n",
      "                subject, from_eid\n",
      "                from EmployeeBase\n",
      "                join MessageBase on eid = from_eid\n",
      "                limit 5\"\"\", conn, \"mid\")"
     ],
     "language": "python",
     "metadata": {},
     "outputs": [
      {
       "html": [
        "<div style=\"max-height:1000px;max-width:1500px;overflow:auto;\">\n",
        "<table border=\"1\" class=\"dataframe\">\n",
        "  <thead>\n",
        "    <tr style=\"text-align: right;\">\n",
        "      <th></th>\n",
        "      <th>name</th>\n",
        "      <th>title</th>\n",
        "      <th>seniority</th>\n",
        "      <th>subject</th>\n",
        "      <th>from_eid</th>\n",
        "    </tr>\n",
        "    <tr>\n",
        "      <th>mid</th>\n",
        "      <th></th>\n",
        "      <th></th>\n",
        "      <th></th>\n",
        "      <th></th>\n",
        "      <th></th>\n",
        "    </tr>\n",
        "  </thead>\n",
        "  <tbody>\n",
        "    <tr>\n",
        "      <th>1</th>\n",
        "      <td> Mark E. Taylor</td>\n",
        "      <td> VP &amp; Gen Cnsl</td>\n",
        "      <td> Senior</td>\n",
        "      <td> 910930020</td>\n",
        "      <td> 138</td>\n",
        "    </tr>\n",
        "    <tr>\n",
        "      <th>2</th>\n",
        "      <td> Mark E. Taylor</td>\n",
        "      <td> VP &amp; Gen Cnsl</td>\n",
        "      <td> Senior</td>\n",
        "      <td> 911459940</td>\n",
        "      <td> 138</td>\n",
        "    </tr>\n",
        "    <tr>\n",
        "      <th>3</th>\n",
        "      <td> Mark E. Taylor</td>\n",
        "      <td> VP &amp; Gen Cnsl</td>\n",
        "      <td> Senior</td>\n",
        "      <td> 911463840</td>\n",
        "      <td> 138</td>\n",
        "    </tr>\n",
        "    <tr>\n",
        "      <th>4</th>\n",
        "      <td> Mark E. Taylor</td>\n",
        "      <td> VP &amp; Gen Cnsl</td>\n",
        "      <td> Senior</td>\n",
        "      <td> 911874180</td>\n",
        "      <td> 138</td>\n",
        "    </tr>\n",
        "    <tr>\n",
        "      <th>5</th>\n",
        "      <td> Mark E. Taylor</td>\n",
        "      <td> VP &amp; Gen Cnsl</td>\n",
        "      <td> Senior</td>\n",
        "      <td> 912396120</td>\n",
        "      <td> 138</td>\n",
        "    </tr>\n",
        "  </tbody>\n",
        "</table>\n",
        "<p>5 rows \u00d7 5 columns</p>\n",
        "</div>"
       ],
       "metadata": {},
       "output_type": "pyout",
       "prompt_number": 19,
       "text": [
        "               name          title seniority    subject  from_eid\n",
        "mid                                                              \n",
        "1    Mark E. Taylor  VP & Gen Cnsl    Senior  910930020       138\n",
        "2    Mark E. Taylor  VP & Gen Cnsl    Senior  911459940       138\n",
        "3    Mark E. Taylor  VP & Gen Cnsl    Senior  911463840       138\n",
        "4    Mark E. Taylor  VP & Gen Cnsl    Senior  911874180       138\n",
        "5    Mark E. Taylor  VP & Gen Cnsl    Senior  912396120       138\n",
        "\n",
        "[5 rows x 5 columns]"
       ]
      }
     ],
     "prompt_number": 19
    },
    {
     "cell_type": "code",
     "collapsed": false,
     "input": [
      "sql.frame_query(\"\"\"select mid, name, title, seniority, unix_time,\n",
      "                subject, from_eid\n",
      "                from EmployeeBase\n",
      "                join MessageBase on eid = from_eid\n",
      "                limit 5\"\"\", conn, \"mid\")"
     ],
     "language": "python",
     "metadata": {},
     "outputs": [
      {
       "html": [
        "<div style=\"max-height:1000px;max-width:1500px;overflow:auto;\">\n",
        "<table border=\"1\" class=\"dataframe\">\n",
        "  <thead>\n",
        "    <tr style=\"text-align: right;\">\n",
        "      <th></th>\n",
        "      <th>name</th>\n",
        "      <th>title</th>\n",
        "      <th>seniority</th>\n",
        "      <th>unix_time</th>\n",
        "      <th>subject</th>\n",
        "      <th>from_eid</th>\n",
        "    </tr>\n",
        "    <tr>\n",
        "      <th>mid</th>\n",
        "      <th></th>\n",
        "      <th></th>\n",
        "      <th></th>\n",
        "      <th></th>\n",
        "      <th></th>\n",
        "      <th></th>\n",
        "    </tr>\n",
        "  </thead>\n",
        "  <tbody>\n",
        "    <tr>\n",
        "      <th>1</th>\n",
        "      <td> Mark E. Taylor</td>\n",
        "      <td> VP &amp; Gen Cnsl</td>\n",
        "      <td> Senior</td>\n",
        "      <td> 910930020</td>\n",
        "      <td>            Cd$ CME letter</td>\n",
        "      <td> 138</td>\n",
        "    </tr>\n",
        "    <tr>\n",
        "      <th>2</th>\n",
        "      <td> Mark E. Taylor</td>\n",
        "      <td> VP &amp; Gen Cnsl</td>\n",
        "      <td> Senior</td>\n",
        "      <td> 911459940</td>\n",
        "      <td>           Indemnification</td>\n",
        "      <td> 138</td>\n",
        "    </tr>\n",
        "    <tr>\n",
        "      <th>3</th>\n",
        "      <td> Mark E. Taylor</td>\n",
        "      <td> VP &amp; Gen Cnsl</td>\n",
        "      <td> Senior</td>\n",
        "      <td> 911463840</td>\n",
        "      <td>       Re: Indemnification</td>\n",
        "      <td> 138</td>\n",
        "    </tr>\n",
        "    <tr>\n",
        "      <th>4</th>\n",
        "      <td> Mark E. Taylor</td>\n",
        "      <td> VP &amp; Gen Cnsl</td>\n",
        "      <td> Senior</td>\n",
        "      <td> 911874180</td>\n",
        "      <td>    Re: Coral Energy, L.P.</td>\n",
        "      <td> 138</td>\n",
        "    </tr>\n",
        "    <tr>\n",
        "      <th>5</th>\n",
        "      <td> Mark E. Taylor</td>\n",
        "      <td> VP &amp; Gen Cnsl</td>\n",
        "      <td> Senior</td>\n",
        "      <td> 912396120</td>\n",
        "      <td> Bankruptcy Code revisions</td>\n",
        "      <td> 138</td>\n",
        "    </tr>\n",
        "  </tbody>\n",
        "</table>\n",
        "<p>5 rows \u00d7 6 columns</p>\n",
        "</div>"
       ],
       "metadata": {},
       "output_type": "pyout",
       "prompt_number": 20,
       "text": [
        "               name          title seniority  unix_time  \\\n",
        "mid                                                       \n",
        "1    Mark E. Taylor  VP & Gen Cnsl    Senior  910930020   \n",
        "2    Mark E. Taylor  VP & Gen Cnsl    Senior  911459940   \n",
        "3    Mark E. Taylor  VP & Gen Cnsl    Senior  911463840   \n",
        "4    Mark E. Taylor  VP & Gen Cnsl    Senior  911874180   \n",
        "5    Mark E. Taylor  VP & Gen Cnsl    Senior  912396120   \n",
        "\n",
        "                       subject  from_eid  \n",
        "mid                                       \n",
        "1               Cd$ CME letter       138  \n",
        "2              Indemnification       138  \n",
        "3          Re: Indemnification       138  \n",
        "4       Re: Coral Energy, L.P.       138  \n",
        "5    Bankruptcy Code revisions       138  \n",
        "\n",
        "[5 rows x 6 columns]"
       ]
      }
     ],
     "prompt_number": 20
    },
    {
     "cell_type": "markdown",
     "metadata": {},
     "source": [
      "try pandas merge..."
     ]
    },
    {
     "cell_type": "code",
     "collapsed": false,
     "input": [
      "EmployeeBase = sql.frame_query(\"\"\"select eid, name, title, seniority\n",
      "                                    from EmployeeBase\"\"\", conn, \"eid\")\n",
      "EmployeeBase.merge(MessageBase, right_on = 'from_eid', left_index = True).head()"
     ],
     "language": "python",
     "metadata": {},
     "outputs": [
      {
       "html": [
        "<div style=\"max-height:1000px;max-width:1500px;overflow:auto;\">\n",
        "<table border=\"1\" class=\"dataframe\">\n",
        "  <thead>\n",
        "    <tr style=\"text-align: right;\">\n",
        "      <th></th>\n",
        "      <th>name</th>\n",
        "      <th>title</th>\n",
        "      <th>seniority</th>\n",
        "      <th>unix_time</th>\n",
        "      <th>subject</th>\n",
        "      <th>from_eid</th>\n",
        "    </tr>\n",
        "    <tr>\n",
        "      <th>mid</th>\n",
        "      <th></th>\n",
        "      <th></th>\n",
        "      <th></th>\n",
        "      <th></th>\n",
        "      <th></th>\n",
        "      <th></th>\n",
        "    </tr>\n",
        "  </thead>\n",
        "  <tbody>\n",
        "    <tr>\n",
        "      <th>1611</th>\n",
        "      <td> John Arnold</td>\n",
        "      <td> VP Trading</td>\n",
        "      <td> Senior</td>\n",
        "      <td> 954317280</td>\n",
        "      <td>        Re: Insurance Call Spread</td>\n",
        "      <td> 1</td>\n",
        "    </tr>\n",
        "    <tr>\n",
        "      <th>1615</th>\n",
        "      <td> John Arnold</td>\n",
        "      <td> VP Trading</td>\n",
        "      <td> Senior</td>\n",
        "      <td> 954328920</td>\n",
        "      <td> New curve generation methodology</td>\n",
        "      <td> 1</td>\n",
        "    </tr>\n",
        "    <tr>\n",
        "      <th>1722</th>\n",
        "      <td> John Arnold</td>\n",
        "      <td> VP Trading</td>\n",
        "      <td> Senior</td>\n",
        "      <td> 955447080</td>\n",
        "      <td> Option Analysis on NG Price Book</td>\n",
        "      <td> 1</td>\n",
        "    </tr>\n",
        "    <tr>\n",
        "      <th>1723</th>\n",
        "      <td> John Arnold</td>\n",
        "      <td> VP Trading</td>\n",
        "      <td> Senior</td>\n",
        "      <td> 955448160</td>\n",
        "      <td>                                 </td>\n",
        "      <td> 1</td>\n",
        "    </tr>\n",
        "    <tr>\n",
        "      <th>1763</th>\n",
        "      <td> John Arnold</td>\n",
        "      <td> VP Trading</td>\n",
        "      <td> Senior</td>\n",
        "      <td> 955701240</td>\n",
        "      <td>                      Re: options</td>\n",
        "      <td> 1</td>\n",
        "    </tr>\n",
        "  </tbody>\n",
        "</table>\n",
        "<p>5 rows \u00d7 6 columns</p>\n",
        "</div>"
       ],
       "metadata": {},
       "output_type": "pyout",
       "prompt_number": 21,
       "text": [
        "             name       title seniority  unix_time  \\\n",
        "mid                                                  \n",
        "1611  John Arnold  VP Trading    Senior  954317280   \n",
        "1615  John Arnold  VP Trading    Senior  954328920   \n",
        "1722  John Arnold  VP Trading    Senior  955447080   \n",
        "1723  John Arnold  VP Trading    Senior  955448160   \n",
        "1763  John Arnold  VP Trading    Senior  955701240   \n",
        "\n",
        "                               subject  from_eid  \n",
        "mid                                               \n",
        "1611         Re: Insurance Call Spread         1  \n",
        "1615  New curve generation methodology         1  \n",
        "1722  Option Analysis on NG Price Book         1  \n",
        "1723                                           1  \n",
        "1763                       Re: options         1  \n",
        "\n",
        "[5 rows x 6 columns]"
       ]
      }
     ],
     "prompt_number": 21
    },
    {
     "cell_type": "markdown",
     "metadata": {},
     "source": [
      "try a histogram..."
     ]
    },
    {
     "cell_type": "code",
     "collapsed": false,
     "input": [
      "import matplotlib.pyplot as plt"
     ],
     "language": "python",
     "metadata": {},
     "outputs": [],
     "prompt_number": 22
    },
    {
     "cell_type": "code",
     "collapsed": false,
     "input": [
      "MessageBase.unix_time.hist()"
     ],
     "language": "python",
     "metadata": {},
     "outputs": [
      {
       "metadata": {},
       "output_type": "pyout",
       "prompt_number": 23,
       "text": [
        "<matplotlib.axes.AxesSubplot at 0x1082d1450>"
       ]
      }
     ],
     "prompt_number": 23
    },
    {
     "cell_type": "code",
     "collapsed": false,
     "input": [
      "plt.show()"
     ],
     "language": "python",
     "metadata": {},
     "outputs": [],
     "prompt_number": 24
    },
    {
     "cell_type": "code",
     "collapsed": false,
     "input": [
      "MessageBase.unix_time.mean()"
     ],
     "language": "python",
     "metadata": {},
     "outputs": [
      {
       "metadata": {},
       "output_type": "pyout",
       "prompt_number": 25,
       "text": [
        "985319365.65994918"
       ]
      }
     ],
     "prompt_number": 25
    },
    {
     "cell_type": "code",
     "collapsed": false,
     "input": [
      "from datetime import datetime\n",
      "dt = MessageBase.unix_time.map(datetime.fromtimestamp)\n",
      "MessageBase.groupby(dt).unix_time.count().resample('1W', how='sum').plot()"
     ],
     "language": "python",
     "metadata": {},
     "outputs": [
      {
       "metadata": {},
       "output_type": "pyout",
       "prompt_number": 26,
       "text": [
        "<matplotlib.axes.AxesSubplot at 0x1082dd6d0>"
       ]
      }
     ],
     "prompt_number": 26
    },
    {
     "cell_type": "code",
     "collapsed": false,
     "input": [
      "plt.show()"
     ],
     "language": "python",
     "metadata": {},
     "outputs": [],
     "prompt_number": 27
    },
    {
     "cell_type": "code",
     "collapsed": false,
     "input": [],
     "language": "python",
     "metadata": {},
     "outputs": []
    }
   ],
   "metadata": {}
  }
 ]
}